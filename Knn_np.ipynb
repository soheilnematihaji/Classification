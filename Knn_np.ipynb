{
 "cells": [
  {
   "cell_type": "code",
   "execution_count": 27,
   "metadata": {},
   "outputs": [],
   "source": [
    "import numpy as np\n",
    "from numpy import linalg as LA\n",
    "import heapq"
   ]
  },
  {
   "cell_type": "code",
   "execution_count": 49,
   "metadata": {},
   "outputs": [
    {
     "name": "stdout",
     "output_type": "stream",
     "text": [
      "[(-5, 99997), (-5, 99999), (-5, 99998)]\n"
     ]
    }
   ],
   "source": [
    "\n",
    "class knn():\n",
    "    \n",
    "    def __init__(self,X_train,Y_train):\n",
    "        self.X_train=X_train\n",
    "        self.Y_train=Y_train\n",
    "    def knn_points(self,point,matrix,k):\n",
    "        knn_points=[]\n",
    "        for i,point_var in enumerate(matrix):\n",
    "            dis=(point_var-point)@((point_var-point).T)\n",
    "            update_top_k(k,knn_points,dis,i)\n",
    "        print(knn_points)\n",
    "\n",
    "    def update_top_k(k,k_closet,index_dis,index):\n",
    "        if len(k_closet)<k:\n",
    "            heapq.heappush(k_closet,(-index_dis,index))\n",
    "        else:\n",
    "            heapq.heappushpop(k_closet, (-index_dis,index))\n",
    "        \n",
    "\n",
    "def test_knn():\n",
    "    \n",
    "    point=np.array([1,1,1])\n",
    "    x_train=np.array([[1,2,3] for i in range(100000)]) \n",
    "    y_train=np.array([i%3for i in range(100000)])\n",
    "    knn0=knn(x_train,y_train)\n",
    "    knn0.knn_points(point,x_train,3)\n",
    "test_knn()\n",
    "    "
   ]
  },
  {
   "cell_type": "code",
   "execution_count": null,
   "metadata": {},
   "outputs": [],
   "source": []
  },
  {
   "cell_type": "code",
   "execution_count": null,
   "metadata": {},
   "outputs": [],
   "source": []
  }
 ],
 "metadata": {
  "kernelspec": {
   "display_name": "Python 3",
   "language": "python",
   "name": "python3"
  },
  "language_info": {
   "codemirror_mode": {
    "name": "ipython",
    "version": 3
   },
   "file_extension": ".py",
   "mimetype": "text/x-python",
   "name": "python",
   "nbconvert_exporter": "python",
   "pygments_lexer": "ipython3",
   "version": "3.8.5"
  }
 },
 "nbformat": 4,
 "nbformat_minor": 4
}
