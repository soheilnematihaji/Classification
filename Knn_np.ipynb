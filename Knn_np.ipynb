{
 "cells": [
  {
   "cell_type": "code",
   "execution_count": 70,
   "metadata": {},
   "outputs": [],
   "source": [
    "import numpy as np\n",
    "from numpy import linalg as LA\n",
    "import heapq\n",
    "from collections import defaultdict"
   ]
  },
  {
   "cell_type": "code",
   "execution_count": 82,
   "metadata": {},
   "outputs": [
    {
     "name": "stdout",
     "output_type": "stream",
     "text": [
      "1\n"
     ]
    }
   ],
   "source": [
    "\n",
    "class knn():\n",
    "    \n",
    "    def __init__(self,k):\n",
    "        self.k=k\n",
    "        \n",
    "    def __init__(self,X_train,Y_train,k):\n",
    "        self.X_train=X_train\n",
    "        self.Y_train=Y_train\n",
    "        self.k=k\n",
    "        \n",
    "    def fit(self,X_train,Y_train):\n",
    "        self.X_train=X_train\n",
    "        self.Y_train=Y_train\n",
    "        \n",
    "    def knn_points(self,newPoint):\n",
    "        X_train=self.X_train\n",
    "        k=self.k\n",
    "        result=[]\n",
    "        for i,dataPoint in enumerate(X_train):\n",
    "            dis=(dataPoint-newPoint)@((dataPoint-newPoint).T)\n",
    "            update_top_k(k,result,dis,i)\n",
    "        return result\n",
    "    \n",
    "    def predict_proba(self,newPoint):\n",
    "        classCount=self.class_count(newPoint)\n",
    "        for class_key in classCount:\n",
    "            classCount[class_key]/=self.k\n",
    "        return classCount\n",
    "    \n",
    "    def predict(self,newPoint):\n",
    "        class_max=0\n",
    "        value_max=0\n",
    "        classCount=self.class_count(newPoint)\n",
    "        for class_key in classCount:\n",
    "            if classCount[class_key]>value_max:\n",
    "                class_max=class_key\n",
    "                value_max=classCount[class_key]\n",
    "        return  class_max\n",
    "    \n",
    "    def class_count(self,newPoint):\n",
    "        knn_result=self.knn_points(newPoint)\n",
    "        class_count=defaultdict(int)\n",
    "        for (val,index) in knn_result:\n",
    "            class_count[self.Y_train[index]]+=1\n",
    "        return class_count\n",
    "    \n",
    "    def update_top_k(k,k_closet,index_dis,index):\n",
    "        if len(k_closet)<k:\n",
    "            heapq.heappush(k_closet,(-index_dis,index))\n",
    "        else:\n",
    "            heapq.heappushpop(k_closet, (-index_dis,index))\n",
    "        \n",
    "\n",
    "def test_knn():\n",
    "    \n",
    "    point=np.array([1,1,1])\n",
    "    x_train=np.array([[1,2,3] for i in range(100000)]) \n",
    "    y_train=np.array([i%3for i in range(100000)])\n",
    "    knn0=knn(x_train,y_train,3)\n",
    "    print(knn0.predict(point))\n",
    "test_knn()\n",
    "    "
   ]
  },
  {
   "cell_type": "code",
   "execution_count": null,
   "metadata": {},
   "outputs": [],
   "source": []
  },
  {
   "cell_type": "code",
   "execution_count": null,
   "metadata": {},
   "outputs": [],
   "source": []
  }
 ],
 "metadata": {
  "kernelspec": {
   "display_name": "Python 3",
   "language": "python",
   "name": "python3"
  },
  "language_info": {
   "codemirror_mode": {
    "name": "ipython",
    "version": 3
   },
   "file_extension": ".py",
   "mimetype": "text/x-python",
   "name": "python",
   "nbconvert_exporter": "python",
   "pygments_lexer": "ipython3",
   "version": "3.8.5"
  }
 },
 "nbformat": 4,
 "nbformat_minor": 4
}
